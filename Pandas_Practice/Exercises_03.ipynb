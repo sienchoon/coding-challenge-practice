{
 "cells": [
  {
   "cell_type": "markdown",
   "metadata": {},
   "source": [
    "# Ex1 - Filtering and Sorting Data"
   ]
  },
  {
   "cell_type": "markdown",
   "metadata": {},
   "source": [
    "This time we are going to pull data directly from the internet.\n",
    "Special thanks to: https://github.com/justmarkham for sharing the dataset and materials.\n",
    "\n",
    "### Step 1. Import the necessary libraries"
   ]
  },
  {
   "cell_type": "code",
   "execution_count": 1,
   "metadata": {
    "collapsed": false
   },
   "outputs": [],
   "source": [
    "import pandas as pd\n",
    "import numpy as np\n",
    "import matplotlib.pyplot as plt\n",
    "import seaborn as sns"
   ]
  },
  {
   "cell_type": "markdown",
   "metadata": {},
   "source": [
    "### Step 2. Import the dataset from this [address](https://raw.githubusercontent.com/justmarkham/DAT8/master/data/chipotle.tsv). "
   ]
  },
  {
   "cell_type": "markdown",
   "metadata": {},
   "source": [
    "### Step 3. Assign it to a variable called chipo."
   ]
  },
  {
   "cell_type": "code",
   "execution_count": 4,
   "metadata": {
    "collapsed": false
   },
   "outputs": [],
   "source": [
    "url = ('https://raw.githubusercontent.com/justmarkham/DAT8/master/data/chipotle.tsv')\n",
    "chipo = pd.read_csv(url, sep = '\\t')"
   ]
  },
  {
   "cell_type": "markdown",
   "metadata": {},
   "source": [
    "### Step 4. How many products cost more than $10.00?"
   ]
  },
  {
   "cell_type": "code",
   "execution_count": 13,
   "metadata": {
    "collapsed": false
   },
   "outputs": [
    {
     "ename": "TypeError",
     "evalue": "'float' object is not subscriptable",
     "output_type": "error",
     "traceback": [
      "\u001b[1;31m---------------------------------------------------------------------------\u001b[0m",
      "\u001b[1;31mTypeError\u001b[0m                                 Traceback (most recent call last)",
      "\u001b[1;32mc:\\Users\\wongc\\Desktop\\Coding-Practice\\coding-challenge-practice\\Pandas_Practice\\Exercises_03.ipynb Cell 8\u001b[0m line \u001b[0;36m2\n\u001b[0;32m      <a href='vscode-notebook-cell:/c%3A/Users/wongc/Desktop/Coding-Practice/coding-challenge-practice/Pandas_Practice/Exercises_03.ipynb#X10sZmlsZQ%3D%3D?line=0'>1</a>\u001b[0m chipo\u001b[39m.\u001b[39mhead()\n\u001b[1;32m----> <a href='vscode-notebook-cell:/c%3A/Users/wongc/Desktop/Coding-Practice/coding-challenge-practice/Pandas_Practice/Exercises_03.ipynb#X10sZmlsZQ%3D%3D?line=1'>2</a>\u001b[0m prices \u001b[39m=\u001b[39m [\u001b[39mfloat\u001b[39;49m(value[\u001b[39m1\u001b[39;49m : \u001b[39m-\u001b[39;49m\u001b[39m1\u001b[39;49m]) \u001b[39mfor\u001b[39;49;00m value \u001b[39min\u001b[39;49;00m chipo\u001b[39m.\u001b[39;49mitem_price]\n\u001b[0;32m      <a href='vscode-notebook-cell:/c%3A/Users/wongc/Desktop/Coding-Practice/coding-challenge-practice/Pandas_Practice/Exercises_03.ipynb#X10sZmlsZQ%3D%3D?line=2'>3</a>\u001b[0m \u001b[39m# float(value[1 : -1]) converts string to float, for example $2.39 is converted to 2.39\u001b[39;00m\n\u001b[0;32m      <a href='vscode-notebook-cell:/c%3A/Users/wongc/Desktop/Coding-Practice/coding-challenge-practice/Pandas_Practice/Exercises_03.ipynb#X10sZmlsZQ%3D%3D?line=3'>4</a>\u001b[0m \u001b[39m# [1:-1] is to remove the $ sign and the space in the string\u001b[39;00m\n\u001b[0;32m      <a href='vscode-notebook-cell:/c%3A/Users/wongc/Desktop/Coding-Practice/coding-challenge-practice/Pandas_Practice/Exercises_03.ipynb#X10sZmlsZQ%3D%3D?line=5'>6</a>\u001b[0m chipo[\u001b[39m'\u001b[39m\u001b[39mitem_price\u001b[39m\u001b[39m'\u001b[39m] \u001b[39m=\u001b[39m prices\n",
      "\u001b[1;32mc:\\Users\\wongc\\Desktop\\Coding-Practice\\coding-challenge-practice\\Pandas_Practice\\Exercises_03.ipynb Cell 8\u001b[0m line \u001b[0;36m2\n\u001b[0;32m      <a href='vscode-notebook-cell:/c%3A/Users/wongc/Desktop/Coding-Practice/coding-challenge-practice/Pandas_Practice/Exercises_03.ipynb#X10sZmlsZQ%3D%3D?line=0'>1</a>\u001b[0m chipo\u001b[39m.\u001b[39mhead()\n\u001b[1;32m----> <a href='vscode-notebook-cell:/c%3A/Users/wongc/Desktop/Coding-Practice/coding-challenge-practice/Pandas_Practice/Exercises_03.ipynb#X10sZmlsZQ%3D%3D?line=1'>2</a>\u001b[0m prices \u001b[39m=\u001b[39m [\u001b[39mfloat\u001b[39m(value[\u001b[39m1\u001b[39;49m : \u001b[39m-\u001b[39;49m\u001b[39m1\u001b[39;49m]) \u001b[39mfor\u001b[39;00m value \u001b[39min\u001b[39;00m chipo\u001b[39m.\u001b[39mitem_price]\n\u001b[0;32m      <a href='vscode-notebook-cell:/c%3A/Users/wongc/Desktop/Coding-Practice/coding-challenge-practice/Pandas_Practice/Exercises_03.ipynb#X10sZmlsZQ%3D%3D?line=2'>3</a>\u001b[0m \u001b[39m# float(value[1 : -1]) converts string to float, for example $2.39 is converted to 2.39\u001b[39;00m\n\u001b[0;32m      <a href='vscode-notebook-cell:/c%3A/Users/wongc/Desktop/Coding-Practice/coding-challenge-practice/Pandas_Practice/Exercises_03.ipynb#X10sZmlsZQ%3D%3D?line=3'>4</a>\u001b[0m \u001b[39m# [1:-1] is to remove the $ sign and the space in the string\u001b[39;00m\n\u001b[0;32m      <a href='vscode-notebook-cell:/c%3A/Users/wongc/Desktop/Coding-Practice/coding-challenge-practice/Pandas_Practice/Exercises_03.ipynb#X10sZmlsZQ%3D%3D?line=5'>6</a>\u001b[0m chipo[\u001b[39m'\u001b[39m\u001b[39mitem_price\u001b[39m\u001b[39m'\u001b[39m] \u001b[39m=\u001b[39m prices\n",
      "\u001b[1;31mTypeError\u001b[0m: 'float' object is not subscriptable"
     ]
    }
   ],
   "source": [
    "chipo.head()\n",
    "prices = [float(value[1 : -1]) for value in chipo.item_price]\n",
    "# float(value[1 : -1]) converts string to float, for example $2.39 is converted to 2.39\n",
    "# [1:-1] is to remove the $ sign and the space in the string\n",
    "\n",
    "chipo['item_price'] = prices\n",
    "\n",
    "# replace the column item_price with the new column without the dollar sign (float value)\n",
    "\n"
   ]
  },
  {
   "cell_type": "markdown",
   "metadata": {},
   "source": [
    "### Step 5. What is the price of each item? \n",
    "###### print a data frame with only two columns item_name and item_price"
   ]
  },
  {
   "cell_type": "code",
   "execution_count": null,
   "metadata": {
    "collapsed": false
   },
   "outputs": [],
   "source": []
  },
  {
   "cell_type": "markdown",
   "metadata": {},
   "source": [
    "### Step 6. Sort by the name of the item"
   ]
  },
  {
   "cell_type": "code",
   "execution_count": null,
   "metadata": {
    "collapsed": false
   },
   "outputs": [],
   "source": []
  },
  {
   "cell_type": "markdown",
   "metadata": {},
   "source": [
    "### Step 7. What was the quantity of the most expensive item ordered?"
   ]
  },
  {
   "cell_type": "code",
   "execution_count": null,
   "metadata": {
    "collapsed": false
   },
   "outputs": [],
   "source": []
  },
  {
   "cell_type": "markdown",
   "metadata": {},
   "source": [
    "### Step 8. How many times was a Veggie Salad Bowl ordered?"
   ]
  },
  {
   "cell_type": "code",
   "execution_count": null,
   "metadata": {
    "collapsed": false
   },
   "outputs": [],
   "source": []
  },
  {
   "cell_type": "markdown",
   "metadata": {},
   "source": [
    "### Step 9. How many times did someone order more than one Canned Soda?"
   ]
  },
  {
   "cell_type": "code",
   "execution_count": null,
   "metadata": {
    "collapsed": false
   },
   "outputs": [],
   "source": []
  }
 ],
 "metadata": {
  "kernelspec": {
   "display_name": "base",
   "language": "python",
   "name": "python3"
  },
  "language_info": {
   "codemirror_mode": {
    "name": "ipython",
    "version": 3
   },
   "file_extension": ".py",
   "mimetype": "text/x-python",
   "name": "python",
   "nbconvert_exporter": "python",
   "pygments_lexer": "ipython3",
   "version": "3.11.5"
  }
 },
 "nbformat": 4,
 "nbformat_minor": 0
}
